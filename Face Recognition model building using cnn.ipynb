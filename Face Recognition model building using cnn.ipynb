{
 "cells": [
  {
   "cell_type": "code",
   "execution_count": 1,
   "id": "432c21f8",
   "metadata": {},
   "outputs": [],
   "source": [
    "import os \n",
    "import numpy as np \n",
    "import pandas as pd \n",
    "import cv2 \n",
    "import matplotlib.pyplot as plt \n",
    "import random\n",
    "\n",
    "from sklearn.model_selection import train_test_split\n",
    "\n",
    "from keras.preprocessing.image import ImageDataGenerator\n",
    "from PIL import Image\n",
    "\n",
    "from sklearn.metrics import accuracy_score,classification_report,confusion_matrix"
   ]
  },
  {
   "cell_type": "code",
   "execution_count": 2,
   "id": "e3e3818b",
   "metadata": {},
   "outputs": [],
   "source": [
    "import tensorflow as tf \n",
    "from tensorflow import keras \n",
    "import cv2\n",
    "from tensorflow.keras.models import Sequential\n",
    "from tensorflow.keras.layers import Conv2D,Dense,MaxPooling2D,Flatten, Dropout,BatchNormalization\n",
    "from keras.regularizers import l2\n",
    "from keras.preprocessing.image import ImageDataGenerator"
   ]
  },
  {
   "cell_type": "markdown",
   "id": "d6842ede",
   "metadata": {},
   "source": [
    "## Collecting data from different files and storing it in same array "
   ]
  },
  {
   "cell_type": "code",
   "execution_count": 3,
   "id": "c66be05b",
   "metadata": {
    "scrolled": true
   },
   "outputs": [
    {
     "data": {
      "text/plain": [
       "['deril',\n",
       " 'deril_augmented',\n",
       " 'mahesh',\n",
       " 'mahesh_augmented',\n",
       " 'nikhil',\n",
       " 'nikhil_augmented',\n",
       " 'test']"
      ]
     },
     "execution_count": 3,
     "metadata": {},
     "output_type": "execute_result"
    }
   ],
   "source": [
    "os.listdir(r'D:\\anaconda3\\My_Projects\\my_work_proj\\Face Recognition\\Face_image_data')"
   ]
  },
  {
   "cell_type": "code",
   "execution_count": 4,
   "id": "74af4a23",
   "metadata": {},
   "outputs": [],
   "source": [
    "file_names = ['deril','mahesh','nikhil']"
   ]
  },
  {
   "cell_type": "code",
   "execution_count": 5,
   "id": "f79531c5",
   "metadata": {
    "scrolled": true
   },
   "outputs": [],
   "source": [
    "images_path = r'D:\\anaconda3\\My_Projects\\my_work_proj\\Face Recognition\\Face_image_data'\n",
    "images = []\n",
    "labels = []\n",
    "\n",
    "label = 0\n",
    "\n",
    "for i in os.listdir(images_path):\n",
    "    \n",
    "    if i in file_names:\n",
    "        \n",
    "        image_path = images_path + '\\\\' +i\n",
    "\n",
    "        for j in os.listdir(image_path):\n",
    "\n",
    "            path = image_path + '\\\\' + j \n",
    "\n",
    "            img = Image.open(path).resize((112,112))\n",
    "            img = np.asarray(img)#/255\n",
    "\n",
    "            images.append(img)\n",
    "            labels.append(label)\n",
    "\n",
    "        label += 1\n",
    "\n",
    "    \n",
    "images_array = np.array(images)\n",
    "labels_array = np.array(labels)"
   ]
  },
  {
   "cell_type": "code",
   "execution_count": 10,
   "id": "f3531be3",
   "metadata": {
    "scrolled": true
   },
   "outputs": [],
   "source": [
    "# Code to save the images\n",
    "# np.save('colored_images',images_array)\n",
    "# np.save('colored_labels',labels_array)"
   ]
  },
  {
   "cell_type": "code",
   "execution_count": null,
   "id": "f82ba160",
   "metadata": {},
   "outputs": [],
   "source": []
  },
  {
   "cell_type": "code",
   "execution_count": 7,
   "id": "8341c32a",
   "metadata": {
    "scrolled": false
   },
   "outputs": [
    {
     "data": {
      "text/plain": [
       "array([0, 1, 2])"
      ]
     },
     "execution_count": 7,
     "metadata": {},
     "output_type": "execute_result"
    }
   ],
   "source": [
    "np.unique(labels_array)\n",
    "\n",
    "# 0 = DEril \n",
    "# 1- Mahesh \n",
    "# 2 - Nikhil"
   ]
  },
  {
   "cell_type": "code",
   "execution_count": 8,
   "id": "c637838a",
   "metadata": {},
   "outputs": [
    {
     "name": "stdout",
     "output_type": "stream",
     "text": [
      "0\n"
     ]
    }
   ],
   "source": [
    "## Checking if all the images are of same shape\n",
    "count = 0 \n",
    "for i in range(len(images_array)):\n",
    "    if images_array[i].shape != (112,112,3):\n",
    "        \n",
    "        count +=1\n",
    "\n",
    "print(count)"
   ]
  },
  {
   "cell_type": "code",
   "execution_count": 9,
   "id": "40461c0e",
   "metadata": {},
   "outputs": [
    {
     "data": {
      "text/plain": [
       "dtype('uint8')"
      ]
     },
     "execution_count": 9,
     "metadata": {},
     "output_type": "execute_result"
    }
   ],
   "source": [
    "images_array.dtype"
   ]
  },
  {
   "cell_type": "code",
   "execution_count": 10,
   "id": "588ea88a",
   "metadata": {
    "scrolled": true
   },
   "outputs": [
    {
     "data": {
      "text/plain": [
       "array([0, 1, 2])"
      ]
     },
     "execution_count": 10,
     "metadata": {},
     "output_type": "execute_result"
    }
   ],
   "source": [
    "np.unique(labels_array)"
   ]
  },
  {
   "cell_type": "code",
   "execution_count": null,
   "id": "5190c070",
   "metadata": {},
   "outputs": [],
   "source": []
  },
  {
   "cell_type": "markdown",
   "id": "aca32611",
   "metadata": {
    "scrolled": true
   },
   "source": [
    "## Splitting the data into training and testing data"
   ]
  },
  {
   "cell_type": "code",
   "execution_count": 11,
   "id": "eef10cdd",
   "metadata": {},
   "outputs": [],
   "source": [
    "x_train, x_val, y_train, y_val = train_test_split(images_array,labels_array,test_size=0.2,random_state=10)"
   ]
  },
  {
   "cell_type": "code",
   "execution_count": 12,
   "id": "4d5807d5",
   "metadata": {},
   "outputs": [
    {
     "data": {
      "text/plain": [
       "array([0, 1, 2])"
      ]
     },
     "execution_count": 12,
     "metadata": {},
     "output_type": "execute_result"
    }
   ],
   "source": [
    "np.unique(y_train)"
   ]
  },
  {
   "cell_type": "code",
   "execution_count": 14,
   "id": "308ae95d",
   "metadata": {},
   "outputs": [],
   "source": [
    "# doing onehot encoding of output \n",
    "y_train = keras.utils.to_categorical(y_train)\n",
    "y_val = keras.utils.to_categorical(y_val)\n",
    "\n",
    "x_train = x_train/255 \n",
    "x_val = x_val/255"
   ]
  },
  {
   "cell_type": "code",
   "execution_count": 6,
   "id": "eef3ee54",
   "metadata": {},
   "outputs": [],
   "source": [
    "# Only done if we are working with gray images\n",
    "# images_array_train = np.expand_dims(images_array_train, axis=3)\n",
    "# images_array_test = np.expand_dims(images_array_test, axis=3)"
   ]
  },
  {
   "cell_type": "code",
   "execution_count": 16,
   "id": "a6e93f09",
   "metadata": {},
   "outputs": [
    {
     "data": {
      "text/plain": [
       "array([0., 1.], dtype=float32)"
      ]
     },
     "execution_count": 16,
     "metadata": {},
     "output_type": "execute_result"
    }
   ],
   "source": [
    "np.unique(y_train)"
   ]
  },
  {
   "cell_type": "code",
   "execution_count": 17,
   "id": "5bd9d07b",
   "metadata": {},
   "outputs": [],
   "source": [
    "from tensorflow.keras.optimizers import Adam\n",
    "from tensorflow.keras.losses import CategoricalCrossentropy\n",
    "from tensorflow.keras.metrics import Accuracy"
   ]
  },
  {
   "cell_type": "code",
   "execution_count": 21,
   "id": "9b807ebf",
   "metadata": {},
   "outputs": [],
   "source": [
    "FR_Model_1 = Sequential([\n",
    "    Conv2D(filters=128, kernel_size=[5,5], activation='relu', padding='same'),\n",
    "    MaxPooling2D(pool_size=(2,2)),\n",
    "    BatchNormalization(),\n",
    "    \n",
    "    Conv2D(filters=326, kernel_size=[3,3], activation='relu', padding='same'),\n",
    "    MaxPooling2D(pool_size=(2,2)),\n",
    "    BatchNormalization(),\n",
    "    \n",
    "    Conv2D(filters=500, kernel_size=[3,3], activation='relu', padding='same'),\n",
    "    MaxPooling2D(pool_size=(2,2)),\n",
    "    BatchNormalization(),\n",
    "    \n",
    "    Flatten(),\n",
    "    Dense(500, activation='relu'),\n",
    "    Dropout(0.2),\n",
    "    Dense(1000,activation='relu'),\n",
    "    Dropout(0.3),\n",
    "    Dense(3, activation='softmax')\n",
    "    \n",
    "])\n",
    "\n",
    "FR_Model_1.compile(optimizer=Adam(), loss=CategoricalCrossentropy(),metrics=Accuracy())"
   ]
  },
  {
   "cell_type": "code",
   "execution_count": 40,
   "id": "0a926baf",
   "metadata": {},
   "outputs": [],
   "source": [
    "# def add_noise(img):\n",
    "#     '''Add random noise to an image'''\n",
    "#     VARIABILITY = 50\n",
    "#     deviation = VARIABILITY*random.random()\n",
    "#     noise = np.random.normal(0, deviation, img.shape)\n",
    "#     img = img + noise\n",
    "#     np.clip(img, 0., 255.)\n",
    "#     return img\n",
    "\n",
    "datagen = ImageDataGenerator(\n",
    "    rotation_range=45,\n",
    "    width_shift_range=0.3,\n",
    "    height_shift_range=0.3,\n",
    "    shear_range=0.1,\n",
    "    zoom_range=0.15,\n",
    "    horizontal_flip=True,\n",
    "    rescale=1./255,\n",
    "#     preprocessing_function=add_noise,\n",
    "    fill_mode='nearest')"
   ]
  },
  {
   "cell_type": "code",
   "execution_count": 42,
   "id": "bc25fca7",
   "metadata": {
    "scrolled": true
   },
   "outputs": [
    {
     "name": "stdout",
     "output_type": "stream",
     "text": [
      "Epoch 1/10\n",
      "8/8 [==============================] - 36s 4s/step - loss: 5.9064 - accuracy: 0.0899 - val_loss: 89.8085 - val_accuracy: 0.3060\n",
      "Epoch 2/10\n",
      "8/8 [==============================] - 36s 4s/step - loss: 1.8282 - accuracy: 0.2697 - val_loss: 145.4282 - val_accuracy: 0.5082\n",
      "Epoch 3/10\n",
      "8/8 [==============================] - 36s 4s/step - loss: 2.5707 - accuracy: 0.3306 - val_loss: 268.9976 - val_accuracy: 0.5956\n",
      "Epoch 4/10\n",
      "8/8 [==============================] - 36s 4s/step - loss: 1.4848 - accuracy: 0.4550 - val_loss: 354.1330 - val_accuracy: 0.5956\n",
      "Epoch 5/10\n",
      "5/8 [=================>............] - ETA: 11s - loss: 2.0500 - accuracy: 0.5011"
     ]
    },
    {
     "ename": "KeyboardInterrupt",
     "evalue": "",
     "output_type": "error",
     "traceback": [
      "\u001b[1;31m---------------------------------------------------------------------------\u001b[0m",
      "\u001b[1;31mKeyboardInterrupt\u001b[0m                         Traceback (most recent call last)",
      "\u001b[1;32m~\\AppData\\Local\\Temp\\ipykernel_16080\\2847927299.py\u001b[0m in \u001b[0;36m<module>\u001b[1;34m\u001b[0m\n\u001b[1;32m----> 1\u001b[1;33m \u001b[0mFR_Model_1\u001b[0m\u001b[1;33m.\u001b[0m\u001b[0mfit\u001b[0m\u001b[1;33m(\u001b[0m\u001b[0mdatagen\u001b[0m\u001b[1;33m.\u001b[0m\u001b[0mflow\u001b[0m\u001b[1;33m(\u001b[0m\u001b[0mx_train\u001b[0m\u001b[1;33m,\u001b[0m\u001b[0my_train\u001b[0m\u001b[1;33m,\u001b[0m\u001b[0mbatch_size\u001b[0m\u001b[1;33m=\u001b[0m\u001b[1;36m32\u001b[0m\u001b[1;33m)\u001b[0m\u001b[1;33m,\u001b[0m\u001b[0mepochs\u001b[0m\u001b[1;33m=\u001b[0m\u001b[1;36m10\u001b[0m\u001b[1;33m,\u001b[0m\u001b[0mvalidation_data\u001b[0m \u001b[1;33m=\u001b[0m \u001b[1;33m(\u001b[0m\u001b[0mx_val\u001b[0m\u001b[1;33m,\u001b[0m\u001b[0my_val\u001b[0m\u001b[1;33m)\u001b[0m\u001b[1;33m)\u001b[0m\u001b[1;33m\u001b[0m\u001b[1;33m\u001b[0m\u001b[0m\n\u001b[0m",
      "\u001b[1;32mD:\\anaconda3\\lib\\site-packages\\keras\\utils\\traceback_utils.py\u001b[0m in \u001b[0;36merror_handler\u001b[1;34m(*args, **kwargs)\u001b[0m\n\u001b[0;32m     63\u001b[0m         \u001b[0mfiltered_tb\u001b[0m \u001b[1;33m=\u001b[0m \u001b[1;32mNone\u001b[0m\u001b[1;33m\u001b[0m\u001b[1;33m\u001b[0m\u001b[0m\n\u001b[0;32m     64\u001b[0m         \u001b[1;32mtry\u001b[0m\u001b[1;33m:\u001b[0m\u001b[1;33m\u001b[0m\u001b[1;33m\u001b[0m\u001b[0m\n\u001b[1;32m---> 65\u001b[1;33m             \u001b[1;32mreturn\u001b[0m \u001b[0mfn\u001b[0m\u001b[1;33m(\u001b[0m\u001b[1;33m*\u001b[0m\u001b[0margs\u001b[0m\u001b[1;33m,\u001b[0m \u001b[1;33m**\u001b[0m\u001b[0mkwargs\u001b[0m\u001b[1;33m)\u001b[0m\u001b[1;33m\u001b[0m\u001b[1;33m\u001b[0m\u001b[0m\n\u001b[0m\u001b[0;32m     66\u001b[0m         \u001b[1;32mexcept\u001b[0m \u001b[0mException\u001b[0m \u001b[1;32mas\u001b[0m \u001b[0me\u001b[0m\u001b[1;33m:\u001b[0m\u001b[1;33m\u001b[0m\u001b[1;33m\u001b[0m\u001b[0m\n\u001b[0;32m     67\u001b[0m             \u001b[0mfiltered_tb\u001b[0m \u001b[1;33m=\u001b[0m \u001b[0m_process_traceback_frames\u001b[0m\u001b[1;33m(\u001b[0m\u001b[0me\u001b[0m\u001b[1;33m.\u001b[0m\u001b[0m__traceback__\u001b[0m\u001b[1;33m)\u001b[0m\u001b[1;33m\u001b[0m\u001b[1;33m\u001b[0m\u001b[0m\n",
      "\u001b[1;32mD:\\anaconda3\\lib\\site-packages\\keras\\engine\\training.py\u001b[0m in \u001b[0;36mfit\u001b[1;34m(self, x, y, batch_size, epochs, verbose, callbacks, validation_split, validation_data, shuffle, class_weight, sample_weight, initial_epoch, steps_per_epoch, validation_steps, validation_batch_size, validation_freq, max_queue_size, workers, use_multiprocessing)\u001b[0m\n\u001b[0;32m   1562\u001b[0m                         ):\n\u001b[0;32m   1563\u001b[0m                             \u001b[0mcallbacks\u001b[0m\u001b[1;33m.\u001b[0m\u001b[0mon_train_batch_begin\u001b[0m\u001b[1;33m(\u001b[0m\u001b[0mstep\u001b[0m\u001b[1;33m)\u001b[0m\u001b[1;33m\u001b[0m\u001b[1;33m\u001b[0m\u001b[0m\n\u001b[1;32m-> 1564\u001b[1;33m                             \u001b[0mtmp_logs\u001b[0m \u001b[1;33m=\u001b[0m \u001b[0mself\u001b[0m\u001b[1;33m.\u001b[0m\u001b[0mtrain_function\u001b[0m\u001b[1;33m(\u001b[0m\u001b[0miterator\u001b[0m\u001b[1;33m)\u001b[0m\u001b[1;33m\u001b[0m\u001b[1;33m\u001b[0m\u001b[0m\n\u001b[0m\u001b[0;32m   1565\u001b[0m                             \u001b[1;32mif\u001b[0m \u001b[0mdata_handler\u001b[0m\u001b[1;33m.\u001b[0m\u001b[0mshould_sync\u001b[0m\u001b[1;33m:\u001b[0m\u001b[1;33m\u001b[0m\u001b[1;33m\u001b[0m\u001b[0m\n\u001b[0;32m   1566\u001b[0m                                 \u001b[0mcontext\u001b[0m\u001b[1;33m.\u001b[0m\u001b[0masync_wait\u001b[0m\u001b[1;33m(\u001b[0m\u001b[1;33m)\u001b[0m\u001b[1;33m\u001b[0m\u001b[1;33m\u001b[0m\u001b[0m\n",
      "\u001b[1;32mD:\\anaconda3\\lib\\site-packages\\tensorflow\\python\\util\\traceback_utils.py\u001b[0m in \u001b[0;36merror_handler\u001b[1;34m(*args, **kwargs)\u001b[0m\n\u001b[0;32m    148\u001b[0m     \u001b[0mfiltered_tb\u001b[0m \u001b[1;33m=\u001b[0m \u001b[1;32mNone\u001b[0m\u001b[1;33m\u001b[0m\u001b[1;33m\u001b[0m\u001b[0m\n\u001b[0;32m    149\u001b[0m     \u001b[1;32mtry\u001b[0m\u001b[1;33m:\u001b[0m\u001b[1;33m\u001b[0m\u001b[1;33m\u001b[0m\u001b[0m\n\u001b[1;32m--> 150\u001b[1;33m       \u001b[1;32mreturn\u001b[0m \u001b[0mfn\u001b[0m\u001b[1;33m(\u001b[0m\u001b[1;33m*\u001b[0m\u001b[0margs\u001b[0m\u001b[1;33m,\u001b[0m \u001b[1;33m**\u001b[0m\u001b[0mkwargs\u001b[0m\u001b[1;33m)\u001b[0m\u001b[1;33m\u001b[0m\u001b[1;33m\u001b[0m\u001b[0m\n\u001b[0m\u001b[0;32m    151\u001b[0m     \u001b[1;32mexcept\u001b[0m \u001b[0mException\u001b[0m \u001b[1;32mas\u001b[0m \u001b[0me\u001b[0m\u001b[1;33m:\u001b[0m\u001b[1;33m\u001b[0m\u001b[1;33m\u001b[0m\u001b[0m\n\u001b[0;32m    152\u001b[0m       \u001b[0mfiltered_tb\u001b[0m \u001b[1;33m=\u001b[0m \u001b[0m_process_traceback_frames\u001b[0m\u001b[1;33m(\u001b[0m\u001b[0me\u001b[0m\u001b[1;33m.\u001b[0m\u001b[0m__traceback__\u001b[0m\u001b[1;33m)\u001b[0m\u001b[1;33m\u001b[0m\u001b[1;33m\u001b[0m\u001b[0m\n",
      "\u001b[1;32mD:\\anaconda3\\lib\\site-packages\\tensorflow\\python\\eager\\def_function.py\u001b[0m in \u001b[0;36m__call__\u001b[1;34m(self, *args, **kwds)\u001b[0m\n\u001b[0;32m    913\u001b[0m \u001b[1;33m\u001b[0m\u001b[0m\n\u001b[0;32m    914\u001b[0m       \u001b[1;32mwith\u001b[0m \u001b[0mOptionalXlaContext\u001b[0m\u001b[1;33m(\u001b[0m\u001b[0mself\u001b[0m\u001b[1;33m.\u001b[0m\u001b[0m_jit_compile\u001b[0m\u001b[1;33m)\u001b[0m\u001b[1;33m:\u001b[0m\u001b[1;33m\u001b[0m\u001b[1;33m\u001b[0m\u001b[0m\n\u001b[1;32m--> 915\u001b[1;33m         \u001b[0mresult\u001b[0m \u001b[1;33m=\u001b[0m \u001b[0mself\u001b[0m\u001b[1;33m.\u001b[0m\u001b[0m_call\u001b[0m\u001b[1;33m(\u001b[0m\u001b[1;33m*\u001b[0m\u001b[0margs\u001b[0m\u001b[1;33m,\u001b[0m \u001b[1;33m**\u001b[0m\u001b[0mkwds\u001b[0m\u001b[1;33m)\u001b[0m\u001b[1;33m\u001b[0m\u001b[1;33m\u001b[0m\u001b[0m\n\u001b[0m\u001b[0;32m    916\u001b[0m \u001b[1;33m\u001b[0m\u001b[0m\n\u001b[0;32m    917\u001b[0m       \u001b[0mnew_tracing_count\u001b[0m \u001b[1;33m=\u001b[0m \u001b[0mself\u001b[0m\u001b[1;33m.\u001b[0m\u001b[0mexperimental_get_tracing_count\u001b[0m\u001b[1;33m(\u001b[0m\u001b[1;33m)\u001b[0m\u001b[1;33m\u001b[0m\u001b[1;33m\u001b[0m\u001b[0m\n",
      "\u001b[1;32mD:\\anaconda3\\lib\\site-packages\\tensorflow\\python\\eager\\def_function.py\u001b[0m in \u001b[0;36m_call\u001b[1;34m(self, *args, **kwds)\u001b[0m\n\u001b[0;32m    945\u001b[0m       \u001b[1;31m# In this case we have created variables on the first call, so we run the\u001b[0m\u001b[1;33m\u001b[0m\u001b[1;33m\u001b[0m\u001b[0m\n\u001b[0;32m    946\u001b[0m       \u001b[1;31m# defunned version which is guaranteed to never create variables.\u001b[0m\u001b[1;33m\u001b[0m\u001b[1;33m\u001b[0m\u001b[0m\n\u001b[1;32m--> 947\u001b[1;33m       \u001b[1;32mreturn\u001b[0m \u001b[0mself\u001b[0m\u001b[1;33m.\u001b[0m\u001b[0m_stateless_fn\u001b[0m\u001b[1;33m(\u001b[0m\u001b[1;33m*\u001b[0m\u001b[0margs\u001b[0m\u001b[1;33m,\u001b[0m \u001b[1;33m**\u001b[0m\u001b[0mkwds\u001b[0m\u001b[1;33m)\u001b[0m  \u001b[1;31m# pylint: disable=not-callable\u001b[0m\u001b[1;33m\u001b[0m\u001b[1;33m\u001b[0m\u001b[0m\n\u001b[0m\u001b[0;32m    948\u001b[0m     \u001b[1;32melif\u001b[0m \u001b[0mself\u001b[0m\u001b[1;33m.\u001b[0m\u001b[0m_stateful_fn\u001b[0m \u001b[1;32mis\u001b[0m \u001b[1;32mnot\u001b[0m \u001b[1;32mNone\u001b[0m\u001b[1;33m:\u001b[0m\u001b[1;33m\u001b[0m\u001b[1;33m\u001b[0m\u001b[0m\n\u001b[0;32m    949\u001b[0m       \u001b[1;31m# Release the lock early so that multiple threads can perform the call\u001b[0m\u001b[1;33m\u001b[0m\u001b[1;33m\u001b[0m\u001b[0m\n",
      "\u001b[1;32mD:\\anaconda3\\lib\\site-packages\\tensorflow\\python\\eager\\function.py\u001b[0m in \u001b[0;36m__call__\u001b[1;34m(self, *args, **kwargs)\u001b[0m\n\u001b[0;32m   2494\u001b[0m       (graph_function,\n\u001b[0;32m   2495\u001b[0m        filtered_flat_args) = self._maybe_define_function(args, kwargs)\n\u001b[1;32m-> 2496\u001b[1;33m     return graph_function._call_flat(\n\u001b[0m\u001b[0;32m   2497\u001b[0m         filtered_flat_args, captured_inputs=graph_function.captured_inputs)  # pylint: disable=protected-access\n\u001b[0;32m   2498\u001b[0m \u001b[1;33m\u001b[0m\u001b[0m\n",
      "\u001b[1;32mD:\\anaconda3\\lib\\site-packages\\tensorflow\\python\\eager\\function.py\u001b[0m in \u001b[0;36m_call_flat\u001b[1;34m(self, args, captured_inputs, cancellation_manager)\u001b[0m\n\u001b[0;32m   1860\u001b[0m         and executing_eagerly):\n\u001b[0;32m   1861\u001b[0m       \u001b[1;31m# No tape is watching; skip to running the function.\u001b[0m\u001b[1;33m\u001b[0m\u001b[1;33m\u001b[0m\u001b[0m\n\u001b[1;32m-> 1862\u001b[1;33m       return self._build_call_outputs(self._inference_function.call(\n\u001b[0m\u001b[0;32m   1863\u001b[0m           ctx, args, cancellation_manager=cancellation_manager))\n\u001b[0;32m   1864\u001b[0m     forward_backward = self._select_forward_and_backward_functions(\n",
      "\u001b[1;32mD:\\anaconda3\\lib\\site-packages\\tensorflow\\python\\eager\\function.py\u001b[0m in \u001b[0;36mcall\u001b[1;34m(self, ctx, args, cancellation_manager)\u001b[0m\n\u001b[0;32m    497\u001b[0m       \u001b[1;32mwith\u001b[0m \u001b[0m_InterpolateFunctionError\u001b[0m\u001b[1;33m(\u001b[0m\u001b[0mself\u001b[0m\u001b[1;33m)\u001b[0m\u001b[1;33m:\u001b[0m\u001b[1;33m\u001b[0m\u001b[1;33m\u001b[0m\u001b[0m\n\u001b[0;32m    498\u001b[0m         \u001b[1;32mif\u001b[0m \u001b[0mcancellation_manager\u001b[0m \u001b[1;32mis\u001b[0m \u001b[1;32mNone\u001b[0m\u001b[1;33m:\u001b[0m\u001b[1;33m\u001b[0m\u001b[1;33m\u001b[0m\u001b[0m\n\u001b[1;32m--> 499\u001b[1;33m           outputs = execute.execute(\n\u001b[0m\u001b[0;32m    500\u001b[0m               \u001b[0mstr\u001b[0m\u001b[1;33m(\u001b[0m\u001b[0mself\u001b[0m\u001b[1;33m.\u001b[0m\u001b[0msignature\u001b[0m\u001b[1;33m.\u001b[0m\u001b[0mname\u001b[0m\u001b[1;33m)\u001b[0m\u001b[1;33m,\u001b[0m\u001b[1;33m\u001b[0m\u001b[1;33m\u001b[0m\u001b[0m\n\u001b[0;32m    501\u001b[0m               \u001b[0mnum_outputs\u001b[0m\u001b[1;33m=\u001b[0m\u001b[0mself\u001b[0m\u001b[1;33m.\u001b[0m\u001b[0m_num_outputs\u001b[0m\u001b[1;33m,\u001b[0m\u001b[1;33m\u001b[0m\u001b[1;33m\u001b[0m\u001b[0m\n",
      "\u001b[1;32mD:\\anaconda3\\lib\\site-packages\\tensorflow\\python\\eager\\execute.py\u001b[0m in \u001b[0;36mquick_execute\u001b[1;34m(op_name, num_outputs, inputs, attrs, ctx, name)\u001b[0m\n\u001b[0;32m     52\u001b[0m   \u001b[1;32mtry\u001b[0m\u001b[1;33m:\u001b[0m\u001b[1;33m\u001b[0m\u001b[1;33m\u001b[0m\u001b[0m\n\u001b[0;32m     53\u001b[0m     \u001b[0mctx\u001b[0m\u001b[1;33m.\u001b[0m\u001b[0mensure_initialized\u001b[0m\u001b[1;33m(\u001b[0m\u001b[1;33m)\u001b[0m\u001b[1;33m\u001b[0m\u001b[1;33m\u001b[0m\u001b[0m\n\u001b[1;32m---> 54\u001b[1;33m     tensors = pywrap_tfe.TFE_Py_Execute(ctx._handle, device_name, op_name,\n\u001b[0m\u001b[0;32m     55\u001b[0m                                         inputs, attrs, num_outputs)\n\u001b[0;32m     56\u001b[0m   \u001b[1;32mexcept\u001b[0m \u001b[0mcore\u001b[0m\u001b[1;33m.\u001b[0m\u001b[0m_NotOkStatusException\u001b[0m \u001b[1;32mas\u001b[0m \u001b[0me\u001b[0m\u001b[1;33m:\u001b[0m\u001b[1;33m\u001b[0m\u001b[1;33m\u001b[0m\u001b[0m\n",
      "\u001b[1;31mKeyboardInterrupt\u001b[0m: "
     ]
    }
   ],
   "source": [
    "FR_Model_1.fit(datagen.flow(x_train,y_train,batch_size=32),epochs=10,validation_data = (x_val,y_val))"
   ]
  },
  {
   "cell_type": "markdown",
   "id": "ead6d5a6",
   "metadata": {
    "scrolled": true
   },
   "source": [
    "## Transfer Learing "
   ]
  },
  {
   "cell_type": "code",
   "execution_count": 32,
   "id": "b3dd860a",
   "metadata": {},
   "outputs": [],
   "source": [
    "from keras.applications.vgg16 import VGG16\n",
    "from keras.models import Model"
   ]
  },
  {
   "cell_type": "code",
   "execution_count": 43,
   "id": "1cc3148f",
   "metadata": {
    "scrolled": true
   },
   "outputs": [
    {
     "name": "stdout",
     "output_type": "stream",
     "text": [
      "Model: \"model_2\"\n",
      "_________________________________________________________________\n",
      " Layer (type)                Output Shape              Param #   \n",
      "=================================================================\n",
      " input_5 (InputLayer)        [(None, 112, 112, 3)]     0         \n",
      "                                                                 \n",
      " block1_conv1 (Conv2D)       (None, 112, 112, 64)      1792      \n",
      "                                                                 \n",
      " block1_conv2 (Conv2D)       (None, 112, 112, 64)      36928     \n",
      "                                                                 \n",
      " block1_pool (MaxPooling2D)  (None, 56, 56, 64)        0         \n",
      "                                                                 \n",
      " block2_conv1 (Conv2D)       (None, 56, 56, 128)       73856     \n",
      "                                                                 \n",
      " block2_conv2 (Conv2D)       (None, 56, 56, 128)       147584    \n",
      "                                                                 \n",
      " block2_pool (MaxPooling2D)  (None, 28, 28, 128)       0         \n",
      "                                                                 \n",
      " block3_conv1 (Conv2D)       (None, 28, 28, 256)       295168    \n",
      "                                                                 \n",
      " block3_conv2 (Conv2D)       (None, 28, 28, 256)       590080    \n",
      "                                                                 \n",
      " block3_conv3 (Conv2D)       (None, 28, 28, 256)       590080    \n",
      "                                                                 \n",
      " block3_pool (MaxPooling2D)  (None, 14, 14, 256)       0         \n",
      "                                                                 \n",
      " block4_conv1 (Conv2D)       (None, 14, 14, 512)       1180160   \n",
      "                                                                 \n",
      " block4_conv2 (Conv2D)       (None, 14, 14, 512)       2359808   \n",
      "                                                                 \n",
      " block4_conv3 (Conv2D)       (None, 14, 14, 512)       2359808   \n",
      "                                                                 \n",
      " block4_pool (MaxPooling2D)  (None, 7, 7, 512)         0         \n",
      "                                                                 \n",
      " block5_conv1 (Conv2D)       (None, 7, 7, 512)         2359808   \n",
      "                                                                 \n",
      " block5_conv2 (Conv2D)       (None, 7, 7, 512)         2359808   \n",
      "                                                                 \n",
      " block5_conv3 (Conv2D)       (None, 7, 7, 512)         2359808   \n",
      "                                                                 \n",
      " block5_pool (MaxPooling2D)  (None, 3, 3, 512)         0         \n",
      "                                                                 \n",
      " sequential_5 (Sequential)   (None, 3)                 6295555   \n",
      "                                                                 \n",
      "=================================================================\n",
      "Total params: 21,010,243\n",
      "Trainable params: 6,295,555\n",
      "Non-trainable params: 14,714,688\n",
      "_________________________________________________________________\n"
     ]
    }
   ],
   "source": [
    "vgg16 = VGG16(input_shape=(112,112,3), weights='imagenet', include_top=False)\n",
    "\n",
    "for layer in vgg16.layers:\n",
    "    layer.trainable = False\n",
    "\n",
    "add_model = Sequential()\n",
    "add_model.add(Flatten(input_shape=vgg16.output_shape[1:]))\n",
    "\n",
    "add_model.add(Dense(1024, activation='relu'))\n",
    "add_model.add(Dense(1024, activation='relu'))\n",
    "\n",
    "\n",
    "add_model.add(Dense(512, activation='relu'))\n",
    "\n",
    "add_model.add(Dense(y_train.shape[1], activation='softmax'))\n",
    "\n",
    "model_vgg16 = Model(inputs=vgg16.input, outputs=add_model(vgg16.output))\n",
    "\n",
    "learning_rate = 0.0001\n",
    "# def results(model):\n",
    "#     adam = Adam(lr=learning_rate)\n",
    "\n",
    "    \n",
    "model_vgg16.compile(\n",
    "  loss='categorical_crossentropy',\n",
    "  optimizer='adam',\n",
    "  metrics=['accuracy']\n",
    ")\n",
    "\n",
    "model_vgg16.summary()"
   ]
  },
  {
   "cell_type": "code",
   "execution_count": 44,
   "id": "e9518fbc",
   "metadata": {},
   "outputs": [
    {
     "name": "stdout",
     "output_type": "stream",
     "text": [
      "Epoch 1/15\n",
      "2/2 [==============================] - 19s 10s/step - loss: 1.9841 - accuracy: 0.3568 - val_loss: 2.6913 - val_accuracy: 0.3443\n",
      "Epoch 2/15\n",
      "2/2 [==============================] - 17s 10s/step - loss: 1.9644 - accuracy: 0.3320 - val_loss: 1.2366 - val_accuracy: 0.3934\n",
      "Epoch 3/15\n",
      "2/2 [==============================] - 17s 9s/step - loss: 1.2748 - accuracy: 0.2656 - val_loss: 1.1281 - val_accuracy: 0.3934\n",
      "Epoch 4/15\n",
      "2/2 [==============================] - 17s 10s/step - loss: 1.1524 - accuracy: 0.3029 - val_loss: 1.1320 - val_accuracy: 0.3443\n",
      "Epoch 5/15\n",
      "2/2 [==============================] - 17s 9s/step - loss: 1.1419 - accuracy: 0.3195 - val_loss: 1.1432 - val_accuracy: 0.2623\n",
      "Epoch 6/15\n",
      "2/2 [==============================] - 17s 9s/step - loss: 1.1036 - accuracy: 0.3734 - val_loss: 1.0769 - val_accuracy: 0.3934\n",
      "Epoch 7/15\n",
      "2/2 [==============================] - 17s 10s/step - loss: 1.1306 - accuracy: 0.3195 - val_loss: 1.0899 - val_accuracy: 0.3443\n",
      "Epoch 8/15\n",
      "2/2 [==============================] - 16s 10s/step - loss: 1.1086 - accuracy: 0.3361 - val_loss: 1.1603 - val_accuracy: 0.2623\n",
      "Epoch 9/15\n",
      "2/2 [==============================] - 17s 10s/step - loss: 1.1195 - accuracy: 0.3485 - val_loss: 1.0787 - val_accuracy: 0.5410\n",
      "Epoch 10/15\n",
      "2/2 [==============================] - 17s 9s/step - loss: 1.1039 - accuracy: 0.3195 - val_loss: 1.0709 - val_accuracy: 0.5902\n",
      "Epoch 11/15\n",
      "2/2 [==============================] - 17s 9s/step - loss: 1.1143 - accuracy: 0.3320 - val_loss: 1.1086 - val_accuracy: 0.2623\n",
      "Epoch 12/15\n",
      "2/2 [==============================] - 17s 10s/step - loss: 1.1154 - accuracy: 0.3485 - val_loss: 1.1158 - val_accuracy: 0.2623\n",
      "Epoch 13/15\n",
      "2/2 [==============================] - 16s 10s/step - loss: 1.1054 - accuracy: 0.3195 - val_loss: 1.0751 - val_accuracy: 0.6557\n",
      "Epoch 14/15\n",
      "2/2 [==============================] - 16s 10s/step - loss: 1.1074 - accuracy: 0.3320 - val_loss: 1.0881 - val_accuracy: 0.3443\n",
      "Epoch 15/15\n",
      "2/2 [==============================] - 16s 10s/step - loss: 1.1027 - accuracy: 0.3320 - val_loss: 1.1052 - val_accuracy: 0.2623\n"
     ]
    }
   ],
   "source": [
    "history = model_vgg16.fit(datagen.flow(x_train, y_train, batch_size=128), epochs=15,validation_data=(x_val, y_val))"
   ]
  },
  {
   "cell_type": "code",
   "execution_count": null,
   "id": "399cc2a9",
   "metadata": {},
   "outputs": [],
   "source": []
  },
  {
   "cell_type": "code",
   "execution_count": 9,
   "id": "f2304312",
   "metadata": {
    "scrolled": true
   },
   "outputs": [
    {
     "name": "stdout",
     "output_type": "stream",
     "text": [
      "Model: \"sequential\"\n",
      "_________________________________________________________________\n",
      " Layer (type)                Output Shape              Param #   \n",
      "=================================================================\n",
      " conv2d (Conv2D)             (None, 112, 112, 64)      4864      \n",
      "                                                                 \n",
      " max_pooling2d (MaxPooling2D  (None, 56, 56, 64)       0         \n",
      " )                                                               \n",
      "                                                                 \n",
      " batch_normalization (BatchN  (None, 56, 56, 64)       256       \n",
      " ormalization)                                                   \n",
      "                                                                 \n",
      " conv2d_1 (Conv2D)           (None, 56, 56, 128)       73856     \n",
      "                                                                 \n",
      " max_pooling2d_1 (MaxPooling  (None, 28, 28, 128)      0         \n",
      " 2D)                                                             \n",
      "                                                                 \n",
      " batch_normalization_1 (Batc  (None, 28, 28, 128)      512       \n",
      " hNormalization)                                                 \n",
      "                                                                 \n",
      " conv2d_2 (Conv2D)           (None, 28, 28, 128)       147584    \n",
      "                                                                 \n",
      " max_pooling2d_2 (MaxPooling  (None, 14, 14, 128)      0         \n",
      " 2D)                                                             \n",
      "                                                                 \n",
      " batch_normalization_2 (Batc  (None, 14, 14, 128)      512       \n",
      " hNormalization)                                                 \n",
      "                                                                 \n",
      " flatten (Flatten)           (None, 25088)             0         \n",
      "                                                                 \n",
      " dense (Dense)               (None, 500)               12544500  \n",
      "                                                                 \n",
      " dropout (Dropout)           (None, 500)               0         \n",
      "                                                                 \n",
      " dense_1 (Dense)             (None, 1000)              501000    \n",
      "                                                                 \n",
      " dropout_1 (Dropout)         (None, 1000)              0         \n",
      "                                                                 \n",
      " dense_2 (Dense)             (None, 8)                 8008      \n",
      "                                                                 \n",
      "=================================================================\n",
      "Total params: 13,281,092\n",
      "Trainable params: 13,280,452\n",
      "Non-trainable params: 640\n",
      "_________________________________________________________________\n"
     ]
    }
   ],
   "source": [
    "FR_Model_1.summary()"
   ]
  },
  {
   "cell_type": "code",
   "execution_count": 4,
   "id": "a474eb42",
   "metadata": {
    "scrolled": true
   },
   "outputs": [
    {
     "name": "stdout",
     "output_type": "stream",
     "text": [
      "Model: \"sequential_3\"\n",
      "_________________________________________________________________\n",
      " Layer (type)                Output Shape              Param #   \n",
      "=================================================================\n",
      " conv2d_9 (Conv2D)           (None, 112, 112, 64)      4864      \n",
      "                                                                 \n",
      " max_pooling2d_9 (MaxPooling  (None, 56, 56, 64)       0         \n",
      " 2D)                                                             \n",
      "                                                                 \n",
      " batch_normalization_9 (Batc  (None, 56, 56, 64)       256       \n",
      " hNormalization)                                                 \n",
      "                                                                 \n",
      " conv2d_10 (Conv2D)          (None, 56, 56, 128)       73856     \n",
      "                                                                 \n",
      " max_pooling2d_10 (MaxPoolin  (None, 28, 28, 128)      0         \n",
      " g2D)                                                            \n",
      "                                                                 \n",
      " batch_normalization_10 (Bat  (None, 28, 28, 128)      512       \n",
      " chNormalization)                                                \n",
      "                                                                 \n",
      " conv2d_11 (Conv2D)          (None, 28, 28, 128)       147584    \n",
      "                                                                 \n",
      " max_pooling2d_11 (MaxPoolin  (None, 14, 14, 128)      0         \n",
      " g2D)                                                            \n",
      "                                                                 \n",
      " batch_normalization_11 (Bat  (None, 14, 14, 128)      512       \n",
      " chNormalization)                                                \n",
      "                                                                 \n",
      " flatten_3 (Flatten)         (None, 25088)             0         \n",
      "                                                                 \n",
      " dense_9 (Dense)             (None, 500)               12544500  \n",
      "                                                                 \n",
      " dropout_6 (Dropout)         (None, 500)               0         \n",
      "                                                                 \n",
      " dense_10 (Dense)            (None, 1000)              501000    \n",
      "                                                                 \n",
      " dropout_7 (Dropout)         (None, 1000)              0         \n",
      "                                                                 \n",
      " dense_11 (Dense)            (None, 8)                 8008      \n",
      "                                                                 \n",
      "=================================================================\n",
      "Total params: 13,281,092\n",
      "Trainable params: 13,280,452\n",
      "Non-trainable params: 640\n",
      "_________________________________________________________________\n"
     ]
    }
   ],
   "source": [
    "FR_Model_1 = keras.models.load_model('first_model_facial_recognition')\n",
    "FR_Model_1.summary()"
   ]
  },
  {
   "cell_type": "code",
   "execution_count": 10,
   "id": "ecf162f8",
   "metadata": {},
   "outputs": [
    {
     "name": "stdout",
     "output_type": "stream",
     "text": [
      "130/130 [==============================] - 21s 159ms/step\n"
     ]
    }
   ],
   "source": [
    "y_val_pred = FR_Model_1.predict(x_val)"
   ]
  },
  {
   "cell_type": "code",
   "execution_count": 11,
   "id": "f030562d",
   "metadata": {},
   "outputs": [
    {
     "data": {
      "text/plain": [
       "array([4, 0, 1, ..., 4, 2, 5], dtype=int64)"
      ]
     },
     "execution_count": 11,
     "metadata": {},
     "output_type": "execute_result"
    }
   ],
   "source": [
    "np.argmax(y_val_pred,axis=1)"
   ]
  },
  {
   "cell_type": "code",
   "execution_count": 12,
   "id": "d6faba2f",
   "metadata": {},
   "outputs": [
    {
     "data": {
      "text/plain": [
       "array([4, 0, 1, ..., 4, 2, 5], dtype=int64)"
      ]
     },
     "execution_count": 12,
     "metadata": {},
     "output_type": "execute_result"
    }
   ],
   "source": [
    "np.argmax(y_val,axis=1)"
   ]
  },
  {
   "cell_type": "code",
   "execution_count": 23,
   "id": "97614e28",
   "metadata": {},
   "outputs": [
    {
     "data": {
      "text/plain": [
       "array([[508,   0,   0,   0,   0,   0,   0,   0],\n",
       "       [  0, 546,   0,   0,   0,   0,   0,   0],\n",
       "       [  0,   0, 514,   0,   0,   0,   0,   0],\n",
       "       [  0,   0,   6, 520,   0,   0,   0,   2],\n",
       "       [  0,   0,   4,   0, 490,   0,   0,   0],\n",
       "       [  0,   0,   0,   0,   0, 517,   0,   0],\n",
       "       [  0,   0,   0,   0,   0,   0, 538,   0],\n",
       "       [  1,   0,   0,   0,   0,   0,   0, 513]], dtype=int64)"
      ]
     },
     "execution_count": 23,
     "metadata": {},
     "output_type": "execute_result"
    }
   ],
   "source": [
    "confusion_matrix(np.argmax(y_val,axis=1),np.argmax(y_val_pred,axis=1))"
   ]
  },
  {
   "cell_type": "code",
   "execution_count": 13,
   "id": "306408eb",
   "metadata": {},
   "outputs": [
    {
     "data": {
      "text/plain": [
       "0.9122385188747295"
      ]
     },
     "execution_count": 13,
     "metadata": {},
     "output_type": "execute_result"
    }
   ],
   "source": [
    "accuracy_score(np.argmax(y_val,axis=1),np.argmax(y_val_pred,axis=1))"
   ]
  },
  {
   "cell_type": "code",
   "execution_count": 14,
   "id": "ab170d3a",
   "metadata": {},
   "outputs": [
    {
     "data": {
      "text/html": [
       "<div>\n",
       "<style scoped>\n",
       "    .dataframe tbody tr th:only-of-type {\n",
       "        vertical-align: middle;\n",
       "    }\n",
       "\n",
       "    .dataframe tbody tr th {\n",
       "        vertical-align: top;\n",
       "    }\n",
       "\n",
       "    .dataframe thead th {\n",
       "        text-align: right;\n",
       "    }\n",
       "</style>\n",
       "<table border=\"1\" class=\"dataframe\">\n",
       "  <thead>\n",
       "    <tr style=\"text-align: right;\">\n",
       "      <th></th>\n",
       "      <th>precision</th>\n",
       "      <th>recall</th>\n",
       "      <th>f1-score</th>\n",
       "      <th>support</th>\n",
       "    </tr>\n",
       "  </thead>\n",
       "  <tbody>\n",
       "    <tr>\n",
       "      <th>0</th>\n",
       "      <td>1.000000</td>\n",
       "      <td>0.881890</td>\n",
       "      <td>0.937238</td>\n",
       "      <td>508.000000</td>\n",
       "    </tr>\n",
       "    <tr>\n",
       "      <th>1</th>\n",
       "      <td>0.994536</td>\n",
       "      <td>1.000000</td>\n",
       "      <td>0.997260</td>\n",
       "      <td>546.000000</td>\n",
       "    </tr>\n",
       "    <tr>\n",
       "      <th>2</th>\n",
       "      <td>0.718487</td>\n",
       "      <td>0.998054</td>\n",
       "      <td>0.835505</td>\n",
       "      <td>514.000000</td>\n",
       "    </tr>\n",
       "    <tr>\n",
       "      <th>3</th>\n",
       "      <td>0.996226</td>\n",
       "      <td>1.000000</td>\n",
       "      <td>0.998110</td>\n",
       "      <td>528.000000</td>\n",
       "    </tr>\n",
       "    <tr>\n",
       "      <th>4</th>\n",
       "      <td>1.000000</td>\n",
       "      <td>0.635628</td>\n",
       "      <td>0.777228</td>\n",
       "      <td>494.000000</td>\n",
       "    </tr>\n",
       "    <tr>\n",
       "      <th>5</th>\n",
       "      <td>1.000000</td>\n",
       "      <td>0.789168</td>\n",
       "      <td>0.882162</td>\n",
       "      <td>517.000000</td>\n",
       "    </tr>\n",
       "    <tr>\n",
       "      <th>6</th>\n",
       "      <td>0.832817</td>\n",
       "      <td>1.000000</td>\n",
       "      <td>0.908784</td>\n",
       "      <td>538.000000</td>\n",
       "    </tr>\n",
       "    <tr>\n",
       "      <th>7</th>\n",
       "      <td>0.907273</td>\n",
       "      <td>0.970817</td>\n",
       "      <td>0.937970</td>\n",
       "      <td>514.000000</td>\n",
       "    </tr>\n",
       "    <tr>\n",
       "      <th>accuracy</th>\n",
       "      <td>0.912239</td>\n",
       "      <td>0.912239</td>\n",
       "      <td>0.912239</td>\n",
       "      <td>0.912239</td>\n",
       "    </tr>\n",
       "    <tr>\n",
       "      <th>macro avg</th>\n",
       "      <td>0.931167</td>\n",
       "      <td>0.909445</td>\n",
       "      <td>0.909282</td>\n",
       "      <td>4159.000000</td>\n",
       "    </tr>\n",
       "    <tr>\n",
       "      <th>weighted avg</th>\n",
       "      <td>0.930926</td>\n",
       "      <td>0.912239</td>\n",
       "      <td>0.910830</td>\n",
       "      <td>4159.000000</td>\n",
       "    </tr>\n",
       "  </tbody>\n",
       "</table>\n",
       "</div>"
      ],
      "text/plain": [
       "              precision    recall  f1-score      support\n",
       "0              1.000000  0.881890  0.937238   508.000000\n",
       "1              0.994536  1.000000  0.997260   546.000000\n",
       "2              0.718487  0.998054  0.835505   514.000000\n",
       "3              0.996226  1.000000  0.998110   528.000000\n",
       "4              1.000000  0.635628  0.777228   494.000000\n",
       "5              1.000000  0.789168  0.882162   517.000000\n",
       "6              0.832817  1.000000  0.908784   538.000000\n",
       "7              0.907273  0.970817  0.937970   514.000000\n",
       "accuracy       0.912239  0.912239  0.912239     0.912239\n",
       "macro avg      0.931167  0.909445  0.909282  4159.000000\n",
       "weighted avg   0.930926  0.912239  0.910830  4159.000000"
      ]
     },
     "execution_count": 14,
     "metadata": {},
     "output_type": "execute_result"
    }
   ],
   "source": [
    "pd.DataFrame(classification_report(np.argmax(y_val,axis=1),np.argmax(y_val_pred,axis=1), output_dict = True)).transpose()"
   ]
  },
  {
   "cell_type": "markdown",
   "id": "d324258b",
   "metadata": {},
   "source": [
    "## Testing on unseen data "
   ]
  },
  {
   "cell_type": "code",
   "execution_count": 15,
   "id": "e0f2187f",
   "metadata": {},
   "outputs": [],
   "source": [
    "images_path = r'D:\\anaconda3\\My_Projects\\my_work_proj\\Face Recognition\\Face_image_data\\test'\n",
    "images_test= []\n",
    "\n",
    "    \n",
    "for j in os.listdir(images_path):\n",
    "\n",
    "    path = images_path + '\\\\' + j \n",
    "\n",
    "    img = plt.imread(path)\n",
    "    img = Image.fromarray(img, 'RGB').resize((112,112))\n",
    "    img = np.array(img)\n",
    "\n",
    "    images_test.append(img)\n",
    "    \n",
    "    \n",
    "images_test_array = np.array(images_test)"
   ]
  },
  {
   "cell_type": "code",
   "execution_count": 16,
   "id": "db00c7d1",
   "metadata": {},
   "outputs": [
    {
     "data": {
      "text/plain": [
       "['1.jpg', '2.jpg', '3.jpg']"
      ]
     },
     "execution_count": 16,
     "metadata": {},
     "output_type": "execute_result"
    }
   ],
   "source": [
    "os.listdir(r'D:\\anaconda3\\My_Projects\\my_work_proj\\Face Recognition\\Face_image_data\\test')"
   ]
  },
  {
   "cell_type": "code",
   "execution_count": 17,
   "id": "789bb456",
   "metadata": {},
   "outputs": [],
   "source": [
    "images_test_array = images_test_array/225"
   ]
  },
  {
   "cell_type": "code",
   "execution_count": 18,
   "id": "71dfec77",
   "metadata": {},
   "outputs": [
    {
     "name": "stdout",
     "output_type": "stream",
     "text": [
      "1/1 [==============================] - 0s 38ms/step\n"
     ]
    }
   ],
   "source": [
    "testing = FR_Model_1.predict(images_test_array)"
   ]
  },
  {
   "cell_type": "code",
   "execution_count": 19,
   "id": "a940f68a",
   "metadata": {},
   "outputs": [
    {
     "data": {
      "text/plain": [
       "array([5, 1, 5], dtype=int64)"
      ]
     },
     "execution_count": 19,
     "metadata": {},
     "output_type": "execute_result"
    }
   ],
   "source": [
    "np.argmax(testing,axis=1)"
   ]
  },
  {
   "cell_type": "code",
   "execution_count": null,
   "id": "77714fce",
   "metadata": {},
   "outputs": [],
   "source": []
  },
  {
   "cell_type": "code",
   "execution_count": null,
   "id": "e9592b6f",
   "metadata": {},
   "outputs": [],
   "source": []
  },
  {
   "cell_type": "code",
   "execution_count": null,
   "id": "66ccb5b5",
   "metadata": {},
   "outputs": [],
   "source": []
  }
 ],
 "metadata": {
  "kernelspec": {
   "display_name": "Python 3 (ipykernel)",
   "language": "python",
   "name": "python3"
  },
  "language_info": {
   "codemirror_mode": {
    "name": "ipython",
    "version": 3
   },
   "file_extension": ".py",
   "mimetype": "text/x-python",
   "name": "python",
   "nbconvert_exporter": "python",
   "pygments_lexer": "ipython3",
   "version": "3.9.13"
  }
 },
 "nbformat": 4,
 "nbformat_minor": 5
}
