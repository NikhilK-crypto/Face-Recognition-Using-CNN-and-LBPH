{
 "cells": [
  {
   "cell_type": "code",
   "execution_count": 1,
   "id": "9ba6337e",
   "metadata": {},
   "outputs": [],
   "source": [
    "import os \n",
    "import numpy as np \n",
    "import pandas as pd \n",
    "import cv2 \n",
    "import matplotlib.pyplot as plt \n",
    "import random\n",
    "from PIL import Image\n",
    "\n",
    "import datetime \n",
    "from openpyxl import load_workbook\n",
    "import datetime \n",
    "\n",
    "from sklearn.model_selection import train_test_split\n",
    "from sklearn.metrics import accuracy_score, classification_report,confusion_matrix"
   ]
  },
  {
   "cell_type": "markdown",
   "id": "f6cb36d7",
   "metadata": {},
   "source": [
    "### Collecting data "
   ]
  },
  {
   "cell_type": "code",
   "execution_count": null,
   "id": "6d0eaa71",
   "metadata": {},
   "outputs": [],
   "source": [
    "# this code will collect 100 images through your webcam and then augment the data for further use. \n",
    "# but for LPBH we are more focused towards real image than augmented image. so we will collect only real imgaes.\n",
    "from FaceData_Collection_Augmentaion import *\n",
    "\n",
    "image_capture_n_aug()"
   ]
  },
  {
   "cell_type": "code",
   "execution_count": null,
   "id": "0a87f5e6",
   "metadata": {},
   "outputs": [],
   "source": []
  },
  {
   "cell_type": "code",
   "execution_count": 2,
   "id": "3016dc8c",
   "metadata": {},
   "outputs": [
    {
     "data": {
      "text/plain": [
       "['deril',\n",
       " 'deril_augmented',\n",
       " 'mahesh',\n",
       " 'mahesh_augmented',\n",
       " 'nikhil',\n",
       " 'nikhil_augmented',\n",
       " 'test']"
      ]
     },
     "execution_count": 2,
     "metadata": {},
     "output_type": "execute_result"
    }
   ],
   "source": [
    "os.listdir(r'D:\\anaconda3\\My_Projects\\my_work_proj\\Face Recognition\\Face_image_data')"
   ]
  },
  {
   "cell_type": "code",
   "execution_count": 4,
   "id": "d804db80",
   "metadata": {},
   "outputs": [],
   "source": [
    "file_names = ['deril','mahesh','nikhil']"
   ]
  },
  {
   "cell_type": "code",
   "execution_count": 5,
   "id": "01f17935",
   "metadata": {},
   "outputs": [],
   "source": [
    "images_path = r'D:\\anaconda3\\My_Projects\\my_work_proj\\Face Recognition\\Face_image_data'\n",
    "images = []\n",
    "labels = []\n",
    "\n",
    "label = 0\n",
    "\n",
    "for i in os.listdir(images_path):\n",
    "    \n",
    "    if i in file_names:\n",
    "        \n",
    "        image_path = images_path + '\\\\' +i\n",
    "\n",
    "        for j in os.listdir(image_path):\n",
    "\n",
    "            path = image_path + '\\\\' + j \n",
    "\n",
    "            img = Image.open(path).convert('L').resize((126,126))\n",
    "            img = np.asarray(img)\n",
    "\n",
    "            images.append(img)\n",
    "            labels.append(label)\n",
    "\n",
    "        label += 1\n",
    "\n",
    "    \n",
    "images_array = np.array(images)\n",
    "labels_array = np.array(labels)"
   ]
  },
  {
   "cell_type": "code",
   "execution_count": 109,
   "id": "982d785c",
   "metadata": {},
   "outputs": [
    {
     "data": {
      "text/plain": [
       "array([0, 0, 0, 0, 0, 0, 0, 0, 0, 0, 0, 0, 0, 0, 0, 0, 0, 0, 0, 0, 0, 0,\n",
       "       0, 0, 0, 0, 0, 0, 0, 0, 0, 0, 0, 0, 0, 0, 0, 0, 0, 0, 0, 0, 0, 0,\n",
       "       0, 0, 0, 0, 0, 0, 0, 0, 0, 0, 0, 0, 0, 0, 0, 0, 0, 0, 0, 0, 0, 0,\n",
       "       0, 0, 0, 0, 0, 0, 0, 0, 0, 0, 0, 0, 0, 0, 0, 0, 0, 0, 0, 0, 0, 0,\n",
       "       0, 0, 0, 0, 0, 0, 0, 0, 0, 0, 0, 0, 1, 1, 1, 1, 1, 1, 1, 1, 1, 1,\n",
       "       1, 1, 1, 1, 1, 1, 1, 1, 1, 1, 1, 1, 1, 1, 1, 1, 1, 1, 1, 1, 1, 1,\n",
       "       1, 1, 1, 1, 1, 1, 1, 1, 1, 1, 1, 1, 1, 1, 1, 1, 1, 1, 1, 1, 1, 1,\n",
       "       1, 1, 1, 1, 1, 1, 1, 1, 1, 1, 1, 1, 1, 1, 1, 1, 1, 1, 1, 1, 1, 1,\n",
       "       1, 1, 1, 1, 1, 1, 1, 1, 1, 1, 1, 1, 1, 1, 1, 1, 1, 1, 1, 1, 1, 1,\n",
       "       1, 1, 1, 2, 2, 2, 2, 2, 2, 2, 2, 2, 2, 2, 2, 2, 2, 2, 2, 2, 2, 2,\n",
       "       2, 2, 2, 2, 2, 2, 2, 2, 2, 2, 2, 2, 2, 2, 2, 2, 2, 2, 2, 2, 2, 2,\n",
       "       2, 2, 2, 2, 2, 2, 2, 2, 2, 2, 2, 2, 2, 2, 2, 2, 2, 2, 2, 2, 2, 2,\n",
       "       2, 2, 2, 2, 2, 2, 2, 2, 2, 2, 2, 2, 2, 2, 2, 2, 2, 2, 2, 2, 2, 2,\n",
       "       2, 2, 2, 2, 2, 2, 2, 2, 2, 2, 2, 2, 2, 2, 2, 2])"
      ]
     },
     "execution_count": 109,
     "metadata": {},
     "output_type": "execute_result"
    }
   ],
   "source": [
    "labels_array"
   ]
  },
  {
   "cell_type": "code",
   "execution_count": 7,
   "id": "8ff8e010",
   "metadata": {},
   "outputs": [],
   "source": [
    "# x_train, x_val, y_train, y_val = train_test_split(images_array,labels_array,test_size=0.1,random_state=10)"
   ]
  },
  {
   "cell_type": "code",
   "execution_count": null,
   "id": "100422dd",
   "metadata": {
    "scrolled": true
   },
   "outputs": [],
   "source": []
  },
  {
   "cell_type": "code",
   "execution_count": null,
   "id": "a833e116",
   "metadata": {},
   "outputs": [],
   "source": []
  },
  {
   "cell_type": "code",
   "execution_count": null,
   "id": "d1b45ebb",
   "metadata": {
    "scrolled": true
   },
   "outputs": [],
   "source": []
  },
  {
   "cell_type": "code",
   "execution_count": 113,
   "id": "35752662",
   "metadata": {},
   "outputs": [],
   "source": [
    "# gray_images = np.load('face_cropped_gray_images.npy')\n",
    "# gray_labels = np.load('face_cropped_gray_labels.npy')"
   ]
  },
  {
   "cell_type": "code",
   "execution_count": 6,
   "id": "3bf479a2",
   "metadata": {},
   "outputs": [],
   "source": [
    "LBPH_model = cv2.face.LBPHFaceRecognizer_create()\n",
    "LBPH_model.train(images_array,labels_array)"
   ]
  },
  {
   "cell_type": "code",
   "execution_count": 77,
   "id": "b5f626cc",
   "metadata": {},
   "outputs": [],
   "source": [
    "## Saving the model\n",
    "LBPH_model.write('LBPHModel')"
   ]
  },
  {
   "cell_type": "markdown",
   "id": "ce70f01f",
   "metadata": {},
   "source": [
    "## Testing on new folder"
   ]
  },
  {
   "cell_type": "code",
   "execution_count": 13,
   "id": "e734c44f",
   "metadata": {},
   "outputs": [],
   "source": [
    "LBPH_model = cv2.face.LBPHFaceRecognizer_create()\n",
    "LBPH_model.read('LBPHModel')"
   ]
  },
  {
   "cell_type": "code",
   "execution_count": 7,
   "id": "2b38b7be",
   "metadata": {},
   "outputs": [],
   "source": [
    "def image_capture_n_aug():\n",
    "    vid = cv2.VideoCapture(0)\n",
    "    face_cascade = cv2.CascadeClassifier('haarcascade_frontalface_default.xml')\n",
    "    count = 0 \n",
    "    name = 'testing'\n",
    "    folder_path = 'D:/anaconda3\\\\My_Projects/my_work_proj/Face Recognition/Face_image_data/testing'\n",
    "\n",
    "\n",
    "    while True:\n",
    "        ret,frame=vid.read()\n",
    "        faces=face_cascade.detectMultiScale(frame,1.3, 5)\n",
    "\n",
    "        for x,y,w,h in faces:\n",
    "            cv2.rectangle(frame, (x,y), (x+w,y+h), (255,0,0), 2)\n",
    "            count=count+1\n",
    "\n",
    "            img_path = folder_path+'/'+ str(count)+\".jpg\"\n",
    "            cv2.imwrite(img_path, frame[y:y+h,x:x+w])\n",
    "\n",
    "            cv2.imshow(\"WindowFrame\", frame)\n",
    "        cv2.waitKey(100)\n",
    "\n",
    "        if count>5:\n",
    "            break\n",
    "\n",
    "    vid.release()\n",
    "    cv2.destroyAllWindows() "
   ]
  },
  {
   "cell_type": "code",
   "execution_count": 8,
   "id": "4bf794ec",
   "metadata": {},
   "outputs": [],
   "source": [
    "#Taking images of my self for testing(id - 2)\n",
    "image_capture_n_aug()"
   ]
  },
  {
   "cell_type": "code",
   "execution_count": 9,
   "id": "0d8cefda",
   "metadata": {},
   "outputs": [
    {
     "data": {
      "text/plain": [
       "['deril',\n",
       " 'deril_augmented',\n",
       " 'mahesh',\n",
       " 'mahesh_augmented',\n",
       " 'nikhil',\n",
       " 'nikhil_augmented',\n",
       " 'testing']"
      ]
     },
     "execution_count": 9,
     "metadata": {},
     "output_type": "execute_result"
    }
   ],
   "source": [
    "os.listdir(images_path)"
   ]
  },
  {
   "cell_type": "code",
   "execution_count": 10,
   "id": "10f336c0",
   "metadata": {
    "scrolled": true
   },
   "outputs": [
    {
     "name": "stdout",
     "output_type": "stream",
     "text": [
      "j 1.jpg\n",
      "j 2.jpg\n",
      "j 3.jpg\n",
      "j 4.jpg\n",
      "j 5.jpg\n",
      "j 6.jpg\n"
     ]
    }
   ],
   "source": [
    "images_path = 'D:/anaconda3/My_Projects/my_work_proj/Face Recognition/Face_image_data/testing'\n",
    "testing = []\n",
    "\n",
    "\n",
    "for j in os.listdir(images_path):\n",
    "    print('j',j)\n",
    "    path = images_path + '\\\\' + j \n",
    "\n",
    "    img = Image.open(path).convert('L').resize((126,126))\n",
    "    img = np.asarray(img)\n",
    "\n",
    "    testing.append(img)\n",
    "\n",
    "    \n",
    "testing_images_array = np.array(testing)"
   ]
  },
  {
   "cell_type": "code",
   "execution_count": 12,
   "id": "3adbd23d",
   "metadata": {
    "scrolled": true
   },
   "outputs": [
    {
     "data": {
      "text/plain": [
       "6"
      ]
     },
     "execution_count": 12,
     "metadata": {},
     "output_type": "execute_result"
    }
   ],
   "source": [
    "testing_images_array.shape[0]"
   ]
  },
  {
   "cell_type": "code",
   "execution_count": null,
   "id": "7a7e15b9",
   "metadata": {},
   "outputs": [],
   "source": []
  },
  {
   "cell_type": "code",
   "execution_count": 14,
   "id": "7ce4b7fd",
   "metadata": {
    "scrolled": true
   },
   "outputs": [
    {
     "name": "stdout",
     "output_type": "stream",
     "text": [
      "result of 0 image is (2, 67.7565047043449)\n",
      "result of 1 image is (2, 74.70135290896684)\n",
      "result of 2 image is (2, 69.24749021805033)\n",
      "result of 3 image is (2, 73.02403459045756)\n",
      "result of 4 image is (2, 66.58440434468014)\n",
      "result of 5 image is (2, 69.18574255373304)\n"
     ]
    }
   ],
   "source": [
    "for i in range(testing_images_array.shape[0]):\n",
    "    result = LBPH_model.predict(testing_images_array[i])\n",
    "    print('result of',i,'image is', result)"
   ]
  },
  {
   "cell_type": "markdown",
   "id": "7fbdf585",
   "metadata": {},
   "source": [
    "from the above we can see that it has predicted my image properly"
   ]
  },
  {
   "cell_type": "markdown",
   "id": "af3159a2",
   "metadata": {},
   "source": [
    "## live image detection"
   ]
  },
  {
   "cell_type": "code",
   "execution_count": 6,
   "id": "38cffdbf",
   "metadata": {},
   "outputs": [],
   "source": [
    "def attendance(name, day, time):\n",
    "    wb = load_workbook(\"Attendance.xlsx\")\n",
    "    sheet = wb.active\n",
    "    curr_len = len(sheet['A'])\n",
    "    \n",
    "    sheet.cell(row=curr_len+1, column=1).value = name\n",
    "    sheet.cell(row = curr_len+1, column =2 ).value = day\n",
    "    sheet.cell(row = curr_len+1, column =3 ).value = time\n",
    "    \n",
    "    wb.save(\"Attendance.xlsx\")\n",
    "    print('Attendance recorded successfully')\n",
    "\n",
    "    \n",
    "    return None"
   ]
  },
  {
   "cell_type": "code",
   "execution_count": 7,
   "id": "7f8bf54b",
   "metadata": {
    "scrolled": true
   },
   "outputs": [
    {
     "name": "stdout",
     "output_type": "stream",
     "text": [
      "Attendance recorded successfully\n",
      "\n",
      " [INFO] Exiting Program and cleanup stuff\n"
     ]
    }
   ],
   "source": [
    "face_cascade = cv2.CascadeClassifier('haarcascade_frontalface_default.xml')\n",
    "LBPH_model = cv2.face.LBPHFaceRecognizer_create()\n",
    "LBPH_model.read('LBPHModel')\n",
    "font = cv2.FONT_HERSHEY_SIMPLEX\n",
    "\n",
    "#iniciate id counter\n",
    "id = 0\n",
    "names = ['Deril', 'Mahesh', 'Nikhil'] \n",
    "\n",
    "cam = cv2.VideoCapture(0)\n",
    "cam.set(3, 640) # set video widht\n",
    "cam.set(4, 480) # set video height\n",
    "\n",
    "# Define min window size to be recognized as a face\n",
    "\n",
    "minW = 0.1*cam.get(3)\n",
    "minH = 0.1*cam.get(4)\n",
    "\n",
    "attendee = []\n",
    "date = []\n",
    "\n",
    "while True:\n",
    "    ret, img =cam.read()\n",
    "    gray = cv2.cvtColor(img,cv2.COLOR_BGR2GRAY)\n",
    "    \n",
    "    faces = face_cascade.detectMultiScale( \n",
    "        gray,\n",
    "        scaleFactor = 1.2,\n",
    "        minNeighbors = 5,\n",
    "        minSize = (int(minW), int(minH)),\n",
    "       )\n",
    "    for(x,y,w,h) in faces:\n",
    "        cv2.rectangle(img, (x,y), (x+w,y+h), (0,255,0), 2)\n",
    "        id, confidence = LBPH_model.predict(gray[y:y+h,x:x+w])\n",
    "        \n",
    "        # If confidence is less then 100 ==> \"0\" : perfect match \n",
    "        if (confidence < 100):\n",
    "            id = names[id]\n",
    "            confidence = \"  {0}%\".format(round(100 - confidence))\n",
    "        else:\n",
    "            id = \"unknown\"\n",
    "            confidence = \"  {0}%\".format(round(100 - confidence))\n",
    "        \n",
    "        # Adding entry \n",
    "        if str(id) not in attendee:\n",
    "            if str(datetime.date.today()) not in date:\n",
    "                attendee.append(str(id))\n",
    "                date.append(str(datetime.date.today()))\n",
    "                \n",
    "                day = str(datetime.date.today())\n",
    "                time = str(datetime.datetime.now().time())[:-10]\n",
    "                attendance(name = str(id),day= day,time= time)\n",
    "        \n",
    "        \n",
    "        cv2.putText(img, str(id), (x+5,y-5), font, 1, (255,255,255), 2)\n",
    "        cv2.putText(img, str(confidence), (x+5,y+h-5), font,1, (255,255,0),1)  \n",
    "    \n",
    "    cv2.imshow('camera',img) \n",
    "        \n",
    "    \n",
    "    \n",
    "    k = cv2.waitKey(10) & 0xff # Press 'ESC' for exiting video\n",
    "    if k == 27:\n",
    "        break\n",
    "# Do a bit of cleanup\n",
    "print(\"\\n [INFO] Exiting Program and cleanup stuff\")\n",
    "cam.release()\n",
    "cv2.destroyAllWindows()"
   ]
  },
  {
   "cell_type": "code",
   "execution_count": null,
   "id": "6d9968f7",
   "metadata": {},
   "outputs": [],
   "source": []
  },
  {
   "cell_type": "code",
   "execution_count": 5,
   "id": "22f10539",
   "metadata": {},
   "outputs": [],
   "source": [
    "cam.release()\n",
    "cv2.destroyAllWindows()"
   ]
  }
 ],
 "metadata": {
  "kernelspec": {
   "display_name": "Python 3 (ipykernel)",
   "language": "python",
   "name": "python3"
  },
  "language_info": {
   "codemirror_mode": {
    "name": "ipython",
    "version": 3
   },
   "file_extension": ".py",
   "mimetype": "text/x-python",
   "name": "python",
   "nbconvert_exporter": "python",
   "pygments_lexer": "ipython3",
   "version": "3.9.13"
  }
 },
 "nbformat": 4,
 "nbformat_minor": 5
}
