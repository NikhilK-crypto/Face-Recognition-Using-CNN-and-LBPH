{
 "cells": [
  {
   "cell_type": "code",
   "execution_count": 1,
   "id": "e70c916e",
   "metadata": {
    "scrolled": true
   },
   "outputs": [],
   "source": [
    "from FaceData_Collection_Augmentaion import *"
   ]
  },
  {
   "cell_type": "code",
   "execution_count": 2,
   "id": "a7edfcb5",
   "metadata": {
    "scrolled": false
   },
   "outputs": [
    {
     "name": "stdout",
     "output_type": "stream",
     "text": [
      "Enter Your name\n",
      "Nonederil\n",
      "File Created Sucessfully\n",
      "deril\n",
      "D:/anaconda3\\My_Projects/my_work_proj/Face Recognition/Face_image_data/deril\n",
      "Image Augmentation is done sucessfully\n"
     ]
    }
   ],
   "source": [
    "image_capture_n_aug()"
   ]
  },
  {
   "cell_type": "code",
   "execution_count": 4,
   "id": "022b054c",
   "metadata": {},
   "outputs": [],
   "source": [
    "import cv2 \n",
    "cv2.destroyAllWindows() "
   ]
  },
  {
   "cell_type": "code",
   "execution_count": 8,
   "id": "d7ed78c1",
   "metadata": {
    "scrolled": false
   },
   "outputs": [
    {
     "name": "stdout",
     "output_type": "stream",
     "text": [
      "Enter Your name\n",
      "Nonemohit\n",
      "File Created Sucessfully\n",
      "Image Augmentation is done sucessfully\n"
     ]
    }
   ],
   "source": [
    "image_capture_n_aug()"
   ]
  },
  {
   "cell_type": "code",
   "execution_count": 9,
   "id": "112cb143",
   "metadata": {
    "scrolled": true
   },
   "outputs": [
    {
     "name": "stdout",
     "output_type": "stream",
     "text": [
      "Enter Your name\n",
      "Nonefirdose\n",
      "File Created Sucessfully\n",
      "Image Augmentation is done sucessfully\n"
     ]
    }
   ],
   "source": [
    "image_capture_n_aug()"
   ]
  },
  {
   "cell_type": "code",
   "execution_count": 10,
   "id": "10316529",
   "metadata": {},
   "outputs": [
    {
     "name": "stdout",
     "output_type": "stream",
     "text": [
      "Enter Your name\n",
      "Nonemahesh\n",
      "File Created Sucessfully\n",
      "Image Augmentation is done sucessfully\n"
     ]
    }
   ],
   "source": [
    "image_capture_n_aug()"
   ]
  },
  {
   "cell_type": "code",
   "execution_count": null,
   "id": "d022922a",
   "metadata": {},
   "outputs": [],
   "source": []
  },
  {
   "cell_type": "code",
   "execution_count": null,
   "id": "0487987d",
   "metadata": {},
   "outputs": [],
   "source": []
  },
  {
   "cell_type": "code",
   "execution_count": null,
   "id": "91e1127a",
   "metadata": {},
   "outputs": [],
   "source": []
  }
 ],
 "metadata": {
  "kernelspec": {
   "display_name": "Python 3 (ipykernel)",
   "language": "python",
   "name": "python3"
  },
  "language_info": {
   "codemirror_mode": {
    "name": "ipython",
    "version": 3
   },
   "file_extension": ".py",
   "mimetype": "text/x-python",
   "name": "python",
   "nbconvert_exporter": "python",
   "pygments_lexer": "ipython3",
   "version": "3.9.13"
  }
 },
 "nbformat": 4,
 "nbformat_minor": 5
}
